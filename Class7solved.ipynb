{
 "cells": [
  {
   "cell_type": "markdown",
   "id": "2d0e987e",
   "metadata": {},
   "source": [
    "# CHEM7370 Class 7\n",
    "## Advanced string operations - Is this reaction balanced? (continued)\n",
    "Here's the combustion reaction for ethanol, given as a string variable. Can we process the string and find out if this reaction is balanced?"
   ]
  },
  {
   "cell_type": "code",
   "execution_count": null,
   "id": "5463cd23",
   "metadata": {},
   "outputs": [],
   "source": [
    "reaction = '2KMnO4 + 10KI + 16HCl -> 2MnCl2 + 12KCl + 5I2 + 8H2O'"
   ]
  },
  {
   "cell_type": "markdown",
   "id": "d27aa6d3",
   "metadata": {},
   "source": [
    "This does not look like a simple task, but we will try to break it apart into a sequence of easier steps. First, it would be nice to parse the string to identify a list of `reactants` and a list of `products`. The `split` method will come in handy. Can you make these two lists?"
   ]
  },
  {
   "cell_type": "code",
   "execution_count": null,
   "id": "b980943e",
   "metadata": {},
   "outputs": [],
   "source": [
    "reactants_together = reaction.split(\" -> \")[0]\n",
    "products_together = reaction.split(\" -> \")[1]\n",
    "reactants = reactants_together.split(\" + \")\n",
    "products = products_together.split(\" + \")\n",
    "#print(reactants_together)\n",
    "#print(products_together)\n",
    "products"
   ]
  },
  {
   "cell_type": "markdown",
   "id": "dd2b0517",
   "metadata": {},
   "source": [
    "Let's now pick one of the molecule from the list of `reactants` or `products`. The first question we might want to answer is: do we have one molecule of that type, or is there a stoichiometric coefficient in front of it? Write the code that will find the integer `coefficient` for this molecule. The code has to be aware that, if a specific number is not given, the `coefficient` is 1.\n",
    "\n",
    "You can do a lot of the same things with strings as you do with lists; in particular, you can slice them with the same `[m:n]` operator, and you can iterate over them: `for x in string_variable:` will run over the individual characters in a string, one at a time. For a single character `x`, you have some functions to find out what character it is:\n",
    "\n",
    "* x.isdigit() will be `True` if the character `x` is a digit (0,...,9) and `False` otherwise.\n",
    "* x.isupper() will be `True` if the character `x` is an uppercase letter and `False` otherwise.\n",
    "* x.islower() will be `True` if the character `x` is an lowercase letter and `False` otherwise."
   ]
  },
  {
   "cell_type": "code",
   "execution_count": null,
   "id": "32de77c0",
   "metadata": {},
   "outputs": [],
   "source": [
    "def stoichiometric_coefficient(molecule):\n",
    "    position = 0\n",
    "    coefficient = ''\n",
    "    while position < len(molecule):\n",
    "        if molecule[position].isdigit():\n",
    "            coefficient += molecule[position]\n",
    "        else:\n",
    "            break\n",
    "        position += 1\n",
    "    if coefficient == '':\n",
    "        just_molecule = molecule\n",
    "        return (1,just_molecule)\n",
    "    else:\n",
    "        just_molecule = molecule[len(coefficient):]\n",
    "        return (int(coefficient),just_molecule)\n",
    "    \n",
    "\n",
    "#molecule = '12CO2'\n",
    "#print(molecule)\n",
    "#print(stoichiometric_coefficient(molecule))\n",
    "for reactant in reactants:\n",
    "    (n,mol) = stoichiometric_coefficient(reactant)\n",
    "    print(\"The coefficient for reactant\",mol,\"is\",n)\n",
    "for product in products:\n",
    "    (n,mol) = stoichiometric_coefficient(product)\n",
    "    print(\"The coefficient for product\",mol,\"is\",n)\n",
    "    "
   ]
  },
  {
   "cell_type": "markdown",
   "id": "e7b222ec",
   "metadata": {},
   "source": [
    "How to store the information about the atoms found and their numbers? I suggest creating a *dictionary*, which is a data type similar to a list but indexed by their descriptions (keys) instead of numbers. Dictionaries are denoted by curly brackets `{}`.\n",
    "\n",
    "This example code first creates an empty dictionary `atomic_masses` and then adds a couple atomic masses to it, indexed by the element symbol."
   ]
  },
  {
   "cell_type": "code",
   "execution_count": null,
   "id": "93e681df",
   "metadata": {},
   "outputs": [],
   "source": [
    "atomic_masses = {}\n",
    "atomic_masses['H'] = 1\n",
    "atomic_masses['He'] = 4\n",
    "atomic_masses['C'] = 12\n",
    "atomic_masses['O'] = 16\n",
    "print(atomic_masses)"
   ]
  },
  {
   "cell_type": "markdown",
   "id": "a817fff0",
   "metadata": {},
   "source": [
    "Adding new entries to a dictionary can be a little tricky, especially if we use the dictionary to count atoms: if we just set the entry to a new value, we forget the previous number of atoms of this kind instead of adding to it. Therefore, before modifying a dictionary entry, it's good to check if the entry already exists. The easiest way to do so is finding out if the entry is `in` the list of keys for the dictionary:"
   ]
  },
  {
   "cell_type": "code",
   "execution_count": null,
   "id": "818c7efb",
   "metadata": {},
   "outputs": [],
   "source": [
    "print(atomic_masses.keys())"
   ]
  },
  {
   "cell_type": "markdown",
   "id": "6d8b51ed",
   "metadata": {},
   "source": [
    "The result of `dictionary.keys()` is, as you see, not strictly a list, but works like a list for practical purposes (and can be converted to a list). *Note: Python does not guarantee that the list of keys will be ordered in any specific way.*"
   ]
  },
  {
   "cell_type": "code",
   "execution_count": null,
   "id": "accb5587",
   "metadata": {},
   "outputs": [],
   "source": [
    "print(list(atomic_masses.keys()))"
   ]
  },
  {
   "cell_type": "markdown",
   "id": "5a88948e",
   "metadata": {},
   "source": [
    "Let's now go back to our problem of counting atoms in a molecule. You have a string `molecule` that contains its formula (with no stoichiometric coefficient left in front of it, assume that if we found a coefficient, we cut it out). Your task is to extract a dictionary `atoms` that contains the number of atoms of each type. For example, if `molecule = \"C2H5OH\"`, the resulting dictionary should be `atoms = {'H' : 6, 'C' : 2, 'O' : 1}`."
   ]
  },
  {
   "cell_type": "code",
   "execution_count": null,
   "id": "62cdc68c",
   "metadata": {},
   "outputs": [],
   "source": [
    "def count_atoms(molecule):\n",
    "    atoms = {}\n",
    "    current_atom = ''\n",
    "    current_number = ''\n",
    "    for x in molecule:\n",
    "        if x.isupper():\n",
    "# x is a capital letter - start of a new atom\n",
    "            if current_atom != '':\n",
    "                if current_number == '': \n",
    "                    if current_atom in atoms.keys():\n",
    "                        atoms[current_atom] += 1\n",
    "                    else:\n",
    "                        atoms[current_atom] = 1\n",
    "                else:\n",
    "                    if current_atom in atoms.keys():\n",
    "                        atoms[current_atom] += int(current_number)\n",
    "                    else:\n",
    "                        atoms[current_atom] = int(current_number)\n",
    "                current_atom = ''\n",
    "                current_number = ''\n",
    "            current_atom += x\n",
    "        elif x.islower():\n",
    "# x is a lowercase letter - second part of an atom\n",
    "            current_atom += x\n",
    "        else:\n",
    "# x is a number - part of the coefficient\n",
    "            current_number += x\n",
    "#    print(current_atom,current_number)\n",
    "    if current_atom != '':\n",
    "        if current_number == '':\n",
    "            if current_atom in atoms.keys():\n",
    "                atoms[current_atom] += 1\n",
    "            else:\n",
    "                atoms[current_atom] = 1\n",
    "        else:\n",
    "            if current_atom in atoms.keys():\n",
    "                atoms[current_atom] += int(current_number)\n",
    "            else:\n",
    "                atoms[current_atom] = int(current_number)\n",
    "    return atoms\n",
    "\n",
    "print(count_atoms('C2H5OH'))\n",
    "print(count_atoms('C2H5COOH'))"
   ]
  },
  {
   "cell_type": "markdown",
   "id": "8ddfa8f1",
   "metadata": {},
   "source": [
    "Now that you counted atoms in one molecule, can you count them in all the reactant molecules (multiplying the count by each stoichiometric coefficient)? Make sure that you don't lose atoms that are in one reactant molecule but not the other(s). Make dictionaries `allreactants` and `allproducts` listing the number of atoms of each type in *all* reactant/product molecules together."
   ]
  },
  {
   "cell_type": "code",
   "execution_count": null,
   "id": "e0f4142b",
   "metadata": {},
   "outputs": [],
   "source": [
    "allreactants = {}\n",
    "allproducts = {}\n",
    "for reactant in reactants:\n",
    "    (n,mol) = stoichiometric_coefficient(reactant)\n",
    "#    print (n,mol)\n",
    "    atoms = count_atoms(mol)\n",
    "#    print(atoms)\n",
    "    for atom in atoms.keys():\n",
    "#        print(atom)\n",
    "        if atom in allreactants.keys():\n",
    "            allreactants[atom] += n * atoms[atom]\n",
    "        else:\n",
    "            allreactants[atom] = n * atoms[atom]\n",
    "for product in products:\n",
    "    (n,mol) = stoichiometric_coefficient(product)\n",
    "#    print (n,mol)\n",
    "    atoms = count_atoms(mol)\n",
    "#    print(atoms)\n",
    "    for atom in atoms.keys():\n",
    "#        print(atom)\n",
    "        if atom in allproducts.keys():\n",
    "            allproducts[atom] += n * atoms[atom]\n",
    "        else:\n",
    "            allproducts[atom] = n * atoms[atom]\n",
    "print(allreactants)\n",
    "print(allproducts)"
   ]
  },
  {
   "cell_type": "markdown",
   "id": "b559845b",
   "metadata": {},
   "source": [
    "We got to the last step! Are the numbers of atoms of each type in reactants and products the same? If they are the same for all atom types, the reaction is balanced. Check if this is the case!"
   ]
  },
  {
   "cell_type": "code",
   "execution_count": null,
   "id": "9cab8173",
   "metadata": {},
   "outputs": [],
   "source": [
    "if allreactants == allproducts:\n",
    "    print (\"Yeah, this is balanced\")\n",
    "else:\n",
    "    print (\"Nope, it is not\")"
   ]
  },
  {
   "cell_type": "markdown",
   "id": "bebf624f",
   "metadata": {},
   "source": [
    "# Reading in tabular data - the numpy library\n",
    "\n",
    "As we already discussed, there are many ways to read in data from files in python. In our last module, we used the `readlines()` function to read in a complex output file. In theory, you could always use the `readlines()` function, and then use the data parsing tools we learned in the previous module to format the data as you needed. But sometimes there are other ways that make more sense, particularly if the data is (1) all or mostly one type of data (for example, all numbers) and/or (2) formatted in a table. Frequently, a table will be mostly numbers, but have column or row labels.\n",
    "\n",
    "A common table format is the CSV file or comma separated values. This is exactly what it sounds like. Data is presented in rows, with each value separated by a comma. If you have data in a spreadsheet program that you need to import into a python code, you can save the data as a csvfile to read it in.\n",
    "\n",
    "In this example, we have a CSV file that contains data from a molecular dynamics trajectory. We have a 20 ns simulation that used a 2 fs timestep. The data was saved to the trajectory file every 1000 steps, so our file has 10,000 timesteps. At each timestep, we are interested in the distance between particular atoms. These trajectories were generated with the AMBER molecular dynamics program and the distances were measured with the python program MDAnalysis. The table of atomic distances was saved as a CSV file called “distance_data_headers.csv”. This file was downloaded as part of your lesson materials. Open the file in a text editor and study it to determine its structure.\n",
    "\n",
    "In analyzing tabular data, we often need to perform the same types of calculations (averaging, calculating the minimum or maximum of the data set), so we are once again going to use a python library, this time a library that contains lots of functions to perform math operations. This library is called `numpy`. The `numpy` library has several functions available to read in tabular data. One of these functions is the `genfromtxt()` function. We will use the `help()` function to learn more about `genfromtxt()` and how it works."
   ]
  },
  {
   "cell_type": "code",
   "execution_count": null,
   "id": "635e29cb",
   "metadata": {},
   "outputs": [],
   "source": [
    "import numpy\n",
    "help(numpy.genfromtxt)"
   ]
  },
  {
   "cell_type": "markdown",
   "id": "7bdb6eae",
   "metadata": {},
   "source": [
    "The help menu shows us all the options we can use with this function. The first input `fname` is the filename we are reading in. We must put a values for this option because it does not have a default value. All the other options have a default value that is shown after the = sign. We only need to specify these options if we don’t want to use the default value. For example, in our file, all the values were not numbers so we don’t want to use the datatype `float`, we want to use something else. If you have mixed datatypes, like we do here, we want to use `'unicode'`. In our file, our values are separated by commas; we indicate that with `delimiter=','`.\n",
    "\n",
    "You may have noticed the `skip_header` option, where you can specify a number of lines to skip at the beginning of the file. If we did this, then our values would all be numbers and we could use `dtype=’float’`, which is the default. In this example, we are not going to do that because we might want to use the headers later to label things, but keep this option in mind because you might want to use it in a later project.\n",
    "\n",
    "Now we have have our plan, we are ready to import our data with `genfromtxt()`.\n",
    "\n",
    "First, we have to get the path to our file. Remember from previous lessons that we use the `os.path` module to do this."
   ]
  },
  {
   "cell_type": "code",
   "execution_count": null,
   "id": "6ed3686b",
   "metadata": {},
   "outputs": [],
   "source": [
    "import os\n",
    "\n",
    "distance_file = os.path.join('data', 'distance_data_headers.csv')\n",
    "\n",
    "distances = numpy.genfromtxt(fname=distance_file, delimiter=',', dtype='unicode')\n",
    "print(distances)"
   ]
  },
  {
   "cell_type": "markdown",
   "id": "99944512",
   "metadata": {},
   "source": [
    "The output of this function is a list of lists; that is, each row is a entry in our list, but each row is itself a list of values. We can see that the first row is our column headings and all the other rows contain numerical data.\n",
    "\n",
    "If we were to read this in with the `readlines()` function, we would have to split each line of the file, use the `append` function to make a new list for each row, and THEN put all those lists together into a list of lists. Using the appropriate `numpy` function makes our life much easier."
   ]
  },
  {
   "cell_type": "markdown",
   "id": "9be32158",
   "metadata": {},
   "source": [
    "## Manipulating Tabular Data\n",
    "Even now, we can see that our first line of data is headings for our columns, and will need to be stored as strings, whereas all the rest of the data is numerical and will need to be stored as floats. Let’s take a slice of the data that is just the headers."
   ]
  },
  {
   "cell_type": "code",
   "execution_count": null,
   "id": "2311a084",
   "metadata": {},
   "outputs": [],
   "source": [
    "headers = distances[0]\n",
    "print(headers)"
   ]
  },
  {
   "cell_type": "markdown",
   "id": "34ccd4f5",
   "metadata": {},
   "source": [
    "Your turn! Take a slice of the data that is just the numerical values. To be uniform for later activities, call this slice `data`."
   ]
  },
  {
   "cell_type": "code",
   "execution_count": null,
   "id": "d82e6016",
   "metadata": {},
   "outputs": [],
   "source": []
  },
  {
   "cell_type": "markdown",
   "id": "c88df8c7",
   "metadata": {},
   "source": [
    "Even though we now have a list of lists that is just the numbers, the numbers are all still strings. We know this because (1) we read them all in as unicode and (2) if we look at the output of the print statement, we can see that each number is enclosed in single quotes, indicating that it is a string. We need to recast these values as floats. The `numpy` library has a built-in function to accomplish this. *In this case, keeping a variable with all the same information as strings is not useful to us, so this is a case where we are going to overwrite our variable data.*"
   ]
  },
  {
   "cell_type": "code",
   "execution_count": null,
   "id": "eb8ee9a1",
   "metadata": {},
   "outputs": [],
   "source": [
    "data = data.astype(float)\n",
    "print(data)"
   ]
  },
  {
   "cell_type": "markdown",
   "id": "b8a54605",
   "metadata": {},
   "source": [
    "We already learned how to address a particular element of a list and how to take a slice of a list to create a new list. Now that we have an array, we now need two indices to address a particular element of the array. The notation to address an element of the array is always `array_name[row,column]`.\n",
    "\n",
    "To check your understanding, predict the output of these lines of code."
   ]
  },
  {
   "cell_type": "code",
   "execution_count": null,
   "id": "20e945c7",
   "metadata": {},
   "outputs": [],
   "source": [
    "print(data[0,1])\n",
    "print(data[1,0])"
   ]
  },
  {
   "cell_type": "markdown",
   "id": "16fa0c71",
   "metadata": {},
   "source": [
    "There you can also take two-dimensional slices of an array where you specify a range of rows and a range of columns for the slice. For example, sometimes it is easier to work with a small subset of our data for testing rather than the full data set. This command takes a slice that includes only the first ten rows and the first three columns of our data."
   ]
  },
  {
   "cell_type": "code",
   "execution_count": null,
   "id": "29029531",
   "metadata": {},
   "outputs": [],
   "source": [
    "small_data = data[0:10,0:3]\n",
    "print(small_data)"
   ]
  },
  {
   "cell_type": "markdown",
   "id": "dd018454",
   "metadata": {},
   "source": [
    "Remember that counting starts at zero, so `0:10` means start at row zero and include all rows, up to but not including 10. Just as with the one-dimensional list slices, if you don’t include a number before the `:` the slice automatically starts with `list_name[0]`. If you don’t include a number after the `:` the slice goes to the end of the list. Therefore, if you don’t include either, a `:` means every row or every column.\n",
    "\n",
    "To check your understanding, predict the output of these lines of code."
   ]
  },
  {
   "cell_type": "code",
   "execution_count": null,
   "id": "be9b4641",
   "metadata": {},
   "outputs": [],
   "source": [
    "print(small_data[5,:])\n",
    "print(small_data[:,1:])"
   ]
  },
  {
   "cell_type": "markdown",
   "id": "9fd380cf",
   "metadata": {},
   "source": [
    "## Analyzing Tabular Data\n",
    "The `numpy` library has numerous built-in functions. For example, to calculate the average (mean) of a data set, the syntax is\n",
    "> `data_average = numpy.mean(data_set)`\n",
    "\n",
    "Let’s say we want to calculate the average distance for a particular measurement over the whole simulation. We want to calculate the average of one of the columns. We can take a slice of our data array that is just one column. Then we can find the average of that column. It doesn’t make sense to average the frame numbers, so let’s do the THR4_ATP column first."
   ]
  },
  {
   "cell_type": "code",
   "execution_count": null,
   "id": "6bd25e1c",
   "metadata": {},
   "outputs": [],
   "source": [
    "thr4_atp = data[:,1]  # Every row, just the THR4_ATP column\n",
    "avg_thr4_atp = numpy.mean(thr4_atp)\n",
    "print(avg_thr4_atp)"
   ]
  },
  {
   "cell_type": "markdown",
   "id": "30080f0a",
   "metadata": {},
   "source": [
    "This is correct, but now we would like to calculate the average of every column. This seems like a job for a `for` loop, but unlike last time, we don’t want to count over a particular list and do something for every item, we want to do something a particular number of times. Basically, we want to take that 1 and let it be every number, up to the number of columns. This is a task for the `range()` function. The general syntax is\n",
    "> `range(start,end)`\n",
    "\n",
    "and we can use `range()` in a `for` loop.\n",
    "\n",
    "In our example, the “end” value needs to be the number of columns of data.\n",
    "\n",
    "First, determine the number of columns in our data set. Save this value as a variable called `num_columns`."
   ]
  },
  {
   "cell_type": "code",
   "execution_count": null,
   "id": "4a3e62e4",
   "metadata": {},
   "outputs": [],
   "source": []
  },
  {
   "cell_type": "markdown",
   "id": "e8352259",
   "metadata": {},
   "source": [
    "Now that we know the number of columns, we can use the `range()` function to set up our `for` loop."
   ]
  },
  {
   "cell_type": "code",
   "execution_count": null,
   "id": "ba55440b",
   "metadata": {},
   "outputs": [],
   "source": [
    "for i in range(1,num_columns):\n",
    "    column = data[:,i]\n",
    "    avg_col = numpy.mean(column)\n",
    "    print(F'{headers[i]} : {avg_col}')"
   ]
  }
 ],
 "metadata": {
  "kernelspec": {
   "display_name": "Python 3 (ipykernel)",
   "language": "python",
   "name": "python3"
  },
  "language_info": {
   "codemirror_mode": {
    "name": "ipython",
    "version": 3
   },
   "file_extension": ".py",
   "mimetype": "text/x-python",
   "name": "python",
   "nbconvert_exporter": "python",
   "pygments_lexer": "ipython3",
   "version": "3.9.15"
  }
 },
 "nbformat": 4,
 "nbformat_minor": 5
}
